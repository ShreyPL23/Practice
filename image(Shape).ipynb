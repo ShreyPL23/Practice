{
  "nbformat": 4,
  "nbformat_minor": 0,
  "metadata": {
    "colab": {
      "provenance": [],
      "gpuType": "T4"
    },
    "kernelspec": {
      "name": "python3",
      "display_name": "Python 3"
    },
    "language_info": {
      "name": "python"
    },
    "accelerator": "GPU"
  },
  "cells": [
    {
      "cell_type": "code",
      "source": [
        "from __future__ import print_function\n",
        "import argparse\n",
        "import cv2"
      ],
      "metadata": {
        "id": "0zZcKj5YXK6v"
      },
      "execution_count": null,
      "outputs": []
    },
    {
      "cell_type": "code",
      "execution_count": null,
      "metadata": {
        "id": "ksD_RVJuW5pM"
      },
      "outputs": [],
      "source": [
        "image  = cv2.imread('3.jpg')"
      ]
    },
    {
      "cell_type": "code",
      "source": [
        "image.shape"
      ],
      "metadata": {
        "id": "POPNE2LaXGsz"
      },
      "execution_count": null,
      "outputs": []
    },
    {
      "cell_type": "code",
      "source": [
        "# Function that takes image as an input and output the width, hight and number of channel"
      ],
      "metadata": {
        "id": "y8NzDyiiA8Q4"
      },
      "execution_count": null,
      "outputs": []
    },
    {
      "cell_type": "code",
      "source": [
        "def get_details(image_file):\n",
        "  image = cv2.imread(image_file)\n",
        "  width = image.shape[1]\n",
        "  height = image.shape[0]\n",
        "  channels = image.shape[2]\n",
        "  return width, height, channels"
      ],
      "metadata": {
        "id": "KsjPHqoEBKDz"
      },
      "execution_count": null,
      "outputs": []
    },
    {
      "cell_type": "code",
      "source": [
        "width, height, channels = get_details('3.jpg')\n",
        "print(f\"width = {width} \\nheight = {height} \\nchannel = {channels}\")"
      ],
      "metadata": {
        "id": "yEjKAf9BBiWK"
      },
      "execution_count": null,
      "outputs": []
    },
    {
      "cell_type": "code",
      "source": [
        "from google.colab.patches import cv2_imshow\n"
      ],
      "metadata": {
        "id": "HhhL9Jf5B6WK"
      },
      "execution_count": null,
      "outputs": []
    },
    {
      "cell_type": "code",
      "source": [
        "cv2_imshow(image)"
      ],
      "metadata": {
        "id": "rJtmK8iwCJcD"
      },
      "execution_count": null,
      "outputs": []
    },
    {
      "cell_type": "code",
      "source": [
        "cv2.imwrite('newimage.jpg', image)"
      ],
      "metadata": {
        "id": "CVF2-nk1CZnT"
      },
      "execution_count": null,
      "outputs": []
    },
    {
      "cell_type": "code",
      "source": [
        "! ls"
      ],
      "metadata": {
        "id": "KfOqJ90kCsSM"
      },
      "execution_count": null,
      "outputs": []
    },
    {
      "cell_type": "code",
      "source": [
        "new_img = cv2.imread('newimage.jpg')\n",
        "new_img.shape"
      ],
      "metadata": {
        "id": "5440G8r3Ct6d"
      },
      "execution_count": null,
      "outputs": []
    },
    {
      "cell_type": "code",
      "source": [
        "from google.colab.patches import cv2_imshow\n",
        "cv2_imshow(new_img)"
      ],
      "metadata": {
        "id": "GcLvjaZDEaFu"
      },
      "execution_count": null,
      "outputs": []
    },
    {
      "cell_type": "code",
      "source": [
        "(b,g,r) = image[10,10]\n",
        "print('Pixel at (10,10)- Red: {}, Green: {}, Blue: {}'.format(r,g,b))"
      ],
      "metadata": {
        "id": "-ITDkwCMEf0C"
      },
      "execution_count": null,
      "outputs": []
    },
    {
      "cell_type": "code",
      "source": [
        "image[10,10] = (0,0,255)\n",
        "(b,g, r) = image[10,10]\n",
        "print('Pixel at (10,10) - Red: {}, Green: {}, Blue: {}'.format(r,g,b))"
      ],
      "metadata": {
        "id": "Q9VD6R1jHvAQ"
      },
      "execution_count": null,
      "outputs": []
    },
    {
      "cell_type": "code",
      "source": [
        "from google.colab.patches import cv2_imshow\n",
        "cv2_imshow(image)"
      ],
      "metadata": {
        "id": "ZAu9xG6rIFRk"
      },
      "execution_count": null,
      "outputs": []
    },
    {
      "cell_type": "code",
      "source": [
        "# Image slicing"
      ],
      "metadata": {
        "id": "ZXzmWZArIPDN"
      },
      "execution_count": null,
      "outputs": []
    },
    {
      "cell_type": "code",
      "source": [
        "corner = image[0:100, 0:100]\n",
        "cv2_imshow(corner)"
      ],
      "metadata": {
        "id": "z3QHcKSCIY0v"
      },
      "execution_count": null,
      "outputs": []
    },
    {
      "cell_type": "code",
      "source": [
        "# convert image into green color"
      ],
      "metadata": {
        "id": "iqWPltf5IjLX"
      },
      "execution_count": null,
      "outputs": []
    },
    {
      "cell_type": "code",
      "source": [
        "image[0:100,0:100] = (0,255,0)\n",
        "\n",
        "cv2_imshow(image)"
      ],
      "metadata": {
        "id": "vaXY4e7eIxkf"
      },
      "execution_count": null,
      "outputs": []
    },
    {
      "cell_type": "code",
      "source": [
        "# Drawing Shape in image"
      ],
      "metadata": {
        "id": "zX_W2hJwI__k"
      },
      "execution_count": null,
      "outputs": []
    },
    {
      "cell_type": "code",
      "source": [
        "import numpy as np\n",
        "canvas  = np.zeros((300,300,3), dtype='uint8')\n",
        "canvas.shape"
      ],
      "metadata": {
        "id": "sMg-5rDvJXOu"
      },
      "execution_count": null,
      "outputs": []
    },
    {
      "cell_type": "code",
      "source": [
        "cv2_imshow(canvas)"
      ],
      "metadata": {
        "id": "Ew4xrDzrJk6C"
      },
      "execution_count": null,
      "outputs": []
    },
    {
      "cell_type": "code",
      "source": [
        "white_canvas = cv2.bitwise_not(canvas)\n",
        "cv2_imshow(white_canvas)"
      ],
      "metadata": {
        "id": "KNwhwYgNJ3Di"
      },
      "execution_count": null,
      "outputs": []
    },
    {
      "cell_type": "code",
      "source": [
        "# Drawing line"
      ],
      "metadata": {
        "id": "_bhoKDUMKBEH"
      },
      "execution_count": null,
      "outputs": []
    },
    {
      "cell_type": "code",
      "source": [
        "red = (0,0,255)\n",
        "cv2.line(white_canvas, (0,0), (300,300), red)\n",
        "cv2_imshow(white_canvas)"
      ],
      "metadata": {
        "id": "rtTjyZsQKGzt"
      },
      "execution_count": null,
      "outputs": []
    },
    {
      "cell_type": "code",
      "source": [
        "red = (0,0,255)\n",
        "cv2.line(white_canvas, (0,0), (300,300), red, 5)\n",
        "cv2_imshow(white_canvas)"
      ],
      "metadata": {
        "id": "ufjV7bc4KV0q"
      },
      "execution_count": null,
      "outputs": []
    },
    {
      "cell_type": "code",
      "source": [
        "# Square"
      ],
      "metadata": {
        "id": "1PGR6TelKkIt"
      },
      "execution_count": null,
      "outputs": []
    },
    {
      "cell_type": "code",
      "source": [
        "blue = (255,0,0)\n",
        "cv2.rectangle(white_canvas,(35,35),(60,60),blue,2)\n",
        "cv2_imshow(white_canvas)"
      ],
      "metadata": {
        "id": "q05m5mDuKqH_"
      },
      "execution_count": null,
      "outputs": []
    },
    {
      "cell_type": "code",
      "source": [
        "white_canvas = cv2.bitwise_not(canvas)\n",
        "blue = (255,0,0)\n",
        "cv2.rectangle(white_canvas, (250,50), (225, 125), blue, -2)\n",
        "cv2_imshow(white_canvas)"
      ],
      "metadata": {
        "id": "DcUZzjX_K2MA"
      },
      "execution_count": null,
      "outputs": []
    },
    {
      "cell_type": "code",
      "source": [
        "# circle"
      ],
      "metadata": {
        "id": "5tdlZUaQLTRg"
      },
      "execution_count": null,
      "outputs": []
    },
    {
      "cell_type": "code",
      "source": [
        "canvas = np.zeros((400,400), dtype='uint8')\n",
        "cv2_imshow(canvas)\n",
        "\n"
      ],
      "metadata": {
        "id": "0NTk6HiqLbMF"
      },
      "execution_count": null,
      "outputs": []
    },
    {
      "cell_type": "code",
      "source": [
        "(centerX, centerY) = (canvas.shape[1] // 2, canvas.shape[0]//2)\n",
        "\n",
        "white = (255,255,255)\n",
        "for r in range(0,175,25):\n",
        "  cv2.circle(canvas, (centerX, centerY), r, white)\n",
        "cv2_imshow(canvas)"
      ],
      "metadata": {
        "id": "pkyElWVRLi1p"
      },
      "execution_count": null,
      "outputs": []
    },
    {
      "cell_type": "code",
      "source": [
        "for i in range(0, 25):\n",
        "    radius = np.random.randint(5, high = 200)\n",
        "    color = np.random.randint(0, high = 256, size = (3,)).tolist()\n",
        "    pt = np.random.randint(0, high = 300, size = (2,))\n",
        "    cv2.circle(canvas, tuple(pt), radius, color, -1)\n",
        "\n",
        "\n",
        "cv2_imshow(canvas)"
      ],
      "metadata": {
        "id": "e4Gy7dk2L-6v"
      },
      "execution_count": null,
      "outputs": []
    },
    {
      "cell_type": "code",
      "source": [],
      "metadata": {
        "id": "q2_4D9oINJYT"
      },
      "execution_count": 35,
      "outputs": []
    },
    {
      "cell_type": "code",
      "source": [],
      "metadata": {
        "id": "Z6mvgutAOOk0"
      },
      "execution_count": null,
      "outputs": []
    },
    {
      "cell_type": "code",
      "source": [],
      "metadata": {
        "id": "gr2hKaOpOTiK"
      },
      "execution_count": null,
      "outputs": []
    }
  ]
}