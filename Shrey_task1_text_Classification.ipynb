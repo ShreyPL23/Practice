{
 "cells": [
  {
   "cell_type": "markdown",
   "metadata": {},
   "source": [
    "### Assignment1: Text Classification \n",
    "- Name: Shrey Patel\n",
    "- Student ID: 101541370\n",
    "\n",
    "##### Algorithms:\n",
    "- Multinomial Naïve Bayes\n",
    "- Logistic Regression \n",
    "- Support Vector Machines\n",
    "- decision Tree\n",
    "\n",
    "##### Using NLP features Extraction:\n",
    "- Countvectorizer\n",
    "- TFIDFvectorizer\n",
    "- Word2vec\n",
    "\n"
   ]
  },
  {
   "cell_type": "code",
   "execution_count": 2,
   "metadata": {},
   "outputs": [],
   "source": [
    "from pprint import pprint\n",
    "from time import time\n",
    "\n",
    "from sklearn.datasets import fetch_20newsgroups\n",
    "from sklearn.feature_extraction.text import CountVectorizer\n",
    "from sklearn.feature_extraction.text import TfidfVectorizer\n",
    "\n",
    "import pandas as pd\n",
    "import numpy as np\n",
    "\n",
    "from gensim.models import Word2Vec, doc2vec\n",
    "from gensim.models.doc2vec import TaggedDocument\n",
    "\n",
    "from sklearn.naive_bayes import MultinomialNB\n",
    "from sklearn.linear_model import LogisticRegression\n",
    "from sklearn.svm import LinearSVC\n",
    "from sklearn.tree import DecisionTreeClassifier\n",
    "from sklearn.metrics import accuracy_score\n",
    "from sklearn.model_selection import train_test_split"
   ]
  },
  {
   "cell_type": "code",
   "execution_count": 3,
   "metadata": {},
   "outputs": [
    {
     "name": "stdout",
     "output_type": "stream",
     "text": [
      "Number of samples: 18846\n"
     ]
    }
   ],
   "source": [
    "data_news = fetch_20newsgroups(subset='all')\n",
    "X = data_news.data\n",
    "y = data_news.target\n",
    "\n",
    "print(f'Number of samples: {len(X)}')"
   ]
  },
  {
   "cell_type": "markdown",
   "metadata": {},
   "source": [
    "- Fetching data for train and test"
   ]
  },
  {
   "cell_type": "code",
   "execution_count": 4,
   "metadata": {},
   "outputs": [
    {
     "name": "stdout",
     "output_type": "stream",
     "text": [
      "TRAIN SAMPLES: 13192\n",
      "Test sample: 5654\n"
     ]
    }
   ],
   "source": [
    "X_train_raw, X_test_raw, y_train, y_test = train_test_split(X, y, test_size=0.30, random_state=101)\n",
    "\n",
    "print(F'TRAIN SAMPLES: {len(X_train_raw)}')\n",
    "print(f'Test sample: {len(X_test_raw)}')"
   ]
  },
  {
   "cell_type": "code",
   "execution_count": 11,
   "metadata": {},
   "outputs": [],
   "source": [
    "def get_countvec(train, test):\n",
    "    vectorizer = CountVectorizer()\n",
    "    X_train = vectorizer.fit_transform(train)\n",
    "    X_test = vectorizer.transform(test)\n",
    "    return X_train, X_test\n",
    "\n",
    "def get_tfidf(train, test):\n",
    "    vectorizer = TfidfVectorizer()\n",
    "    X_train = vectorizer.fit_transform(train)\n",
    "    X_test = vectorizer.transform(test)\n",
    "    return X_train, X_test\n",
    "\n",
    "def get_word2vec(train, test):\n",
    "    train_tok = [doc.split() for doc in train]\n",
    "    test_tok = [doc.split() for doc in test]\n",
    "    \n",
    "    model = Word2Vec(sentences=train_tok, vector_size=100, window=5, min_count=1, workers=4, epochs= 20)\n",
    "    X_train = np.array([\n",
    "        np.mean([model.wv[word] for word in words if word in model.wv]\n",
    "                or [np.zeros(100)], axis=0) for words in train_tok\n",
    "    ])\n",
    "    X_test = np.array([\n",
    "        np.mean([model.wv[word] for word in words if word in model.wv]\n",
    "                or [np.zeros(100)], axis=0) for words in test_tok\n",
    "    ])\n",
    "    return X_train, X_test\n",
    "    \n"
   ]
  },
  {
   "cell_type": "code",
   "execution_count": 12,
   "metadata": {},
   "outputs": [],
   "source": [
    "feature_extractors = {\n",
    "    'CountVectorizer': get_countvec,\n",
    "    'TF-IDF Vectorizer': get_tfidf,\n",
    "    'Word2Vec': get_word2vec,\n",
    "}\n",
    "\n",
    "algorithms = {\n",
    "    'Multinomial Naïve Bayes': MultinomialNB(),\n",
    "    'Logistic Regression': LogisticRegression(max_iter=1000),\n",
    "    'Support Vector Machines': LinearSVC(),\n",
    "    'Decision Trees': DecisionTreeClassifier()\n",
    "}"
   ]
  },
  {
   "cell_type": "code",
   "execution_count": 13,
   "metadata": {},
   "outputs": [
    {
     "name": "stdout",
     "output_type": "stream",
     "text": [
      "\n",
      " Feature Extracting: CountVectorizer\n",
      "\n",
      " algoriths: Multinomial Naïve Bayes -Accuracy: 85.04%\n",
      "\n",
      " algoriths: Logistic Regression -Accuracy: 88.73%\n",
      "\n",
      " algoriths: Support Vector Machines -"
     ]
    },
    {
     "name": "stderr",
     "output_type": "stream",
     "text": [
      "c:\\ProgramData\\anaconda3\\Lib\\site-packages\\sklearn\\svm\\_classes.py:32: FutureWarning: The default value of `dual` will change from `True` to `'auto'` in 1.5. Set the value of `dual` explicitly to suppress the warning.\n",
      "  warnings.warn(\n",
      "c:\\ProgramData\\anaconda3\\Lib\\site-packages\\sklearn\\svm\\_base.py:1242: ConvergenceWarning: Liblinear failed to converge, increase the number of iterations.\n",
      "  warnings.warn(\n"
     ]
    },
    {
     "name": "stdout",
     "output_type": "stream",
     "text": [
      "Accuracy: 88.68%\n",
      "\n",
      " algoriths: Decision Trees -Accuracy: 64.52%\n",
      "\n",
      " Feature Extracting: TF-IDF Vectorizer\n",
      "\n",
      " algoriths: Multinomial Naïve Bayes -Accuracy: 84.79%\n",
      "\n",
      " algoriths: Logistic Regression -Accuracy: 89.58%\n",
      "\n",
      " algoriths: Support Vector Machines -"
     ]
    },
    {
     "name": "stderr",
     "output_type": "stream",
     "text": [
      "c:\\ProgramData\\anaconda3\\Lib\\site-packages\\sklearn\\svm\\_classes.py:32: FutureWarning: The default value of `dual` will change from `True` to `'auto'` in 1.5. Set the value of `dual` explicitly to suppress the warning.\n",
      "  warnings.warn(\n"
     ]
    },
    {
     "name": "stdout",
     "output_type": "stream",
     "text": [
      "Accuracy: 93.21%\n",
      "\n",
      " algoriths: Decision Trees -Accuracy: 62.81%\n",
      "\n",
      " Feature Extracting: Word2Vec\n",
      "\n",
      " algoriths: Multinomial Naïve Bayes -Skipping due to error occurence: Negative values in data passed to MultinomialNB (input X)\n",
      "\n",
      " algoriths: Logistic Regression -Accuracy: 57.61%\n",
      "\n",
      " algoriths: Support Vector Machines -"
     ]
    },
    {
     "name": "stderr",
     "output_type": "stream",
     "text": [
      "c:\\ProgramData\\anaconda3\\Lib\\site-packages\\sklearn\\svm\\_classes.py:32: FutureWarning: The default value of `dual` will change from `True` to `'auto'` in 1.5. Set the value of `dual` explicitly to suppress the warning.\n",
      "  warnings.warn(\n",
      "c:\\ProgramData\\anaconda3\\Lib\\site-packages\\sklearn\\svm\\_base.py:1242: ConvergenceWarning: Liblinear failed to converge, increase the number of iterations.\n",
      "  warnings.warn(\n"
     ]
    },
    {
     "name": "stdout",
     "output_type": "stream",
     "text": [
      "Accuracy: 56.07%\n",
      "\n",
      " algoriths: Decision Trees -Accuracy: 24.05%\n"
     ]
    }
   ],
   "source": [
    "results = []\n",
    "\n",
    "for feature_name, feat_fun in feature_extractors.items():\n",
    "  print(f'\\n Feature Extracting: {feature_name}')\n",
    "  X_train_feat, X_test_feat = feat_fun(X_train_raw, X_test_raw)\n",
    "\n",
    "  \n",
    "  for algo_name, alg in algorithms.items():\n",
    "    print(f'\\n algoriths: {algo_name}', end=\" -\")\n",
    "    try:\n",
    "      model = alg.fit(X_train_feat, y_train)\n",
    "      prediction = model.predict(X_test_feat) \n",
    "      \n",
    "      accuracy_val = accuracy_score(y_test, prediction)*100\n",
    "      \n",
    "      # adding results in the list\n",
    "      \n",
    "      results.append({\n",
    "        'Algorithm': algo_name,\n",
    "        'Feature Extractor': feature_name,\n",
    "        'Accuracy (%)': round(accuracy_val, 2)\n",
    "      })\n",
    "      \n",
    "      print(f'Accuracy: {round(accuracy_val,2)}%')\n",
    "    except Exception as e:\n",
    "      print(f'Skipping due to error occurence: {e}')\n",
    "      continue"
   ]
  },
  {
   "cell_type": "code",
   "execution_count": 18,
   "metadata": {},
   "outputs": [
    {
     "name": "stdout",
     "output_type": "stream",
     "text": [
      "\n",
      " Benchmarked Results: \n",
      "              Algorithm Feature Extractor  Accuracy (%)\n",
      "Support Vector Machines TF-IDF Vectorizer         93.21\n",
      "    Logistic Regression TF-IDF Vectorizer         89.58\n",
      "    Logistic Regression   CountVectorizer         88.73\n",
      "Support Vector Machines   CountVectorizer         88.68\n",
      "Multinomial Naïve Bayes   CountVectorizer         85.04\n",
      "Multinomial Naïve Bayes TF-IDF Vectorizer         84.79\n",
      "         Decision Trees   CountVectorizer         64.52\n",
      "         Decision Trees TF-IDF Vectorizer         62.81\n",
      "    Logistic Regression          Word2Vec         57.61\n",
      "Support Vector Machines          Word2Vec         56.07\n",
      "         Decision Trees          Word2Vec         24.05\n"
     ]
    }
   ],
   "source": [
    "results_df = pd.DataFrame(results)\n",
    "results_df = results_df.sort_values(by='Accuracy (%)', ascending=False)\n",
    "\n",
    "print('\\n Benchmarked Results: ')\n",
    "print(results_df.to_string(index=False))"
   ]
  },
  {
   "cell_type": "code",
   "execution_count": 19,
   "metadata": {},
   "outputs": [
    {
     "name": "stdout",
     "output_type": "stream",
     "text": [
      "\n",
      " Grate!!Output is saved to 'Shrey_task1_text_classification.txt'\n"
     ]
    }
   ],
   "source": [
    "results_df.to_csv('Shrey_task1_text_classification.txt', sep='\\t', index=False)\n",
    "print(\"\\n Grate!!Output is saved to 'Shrey_task1_text_classification.txt'\")\n"
   ]
  },
  {
   "cell_type": "code",
   "execution_count": null,
   "metadata": {},
   "outputs": [],
   "source": []
  },
  {
   "cell_type": "code",
   "execution_count": null,
   "metadata": {},
   "outputs": [],
   "source": []
  },
  {
   "cell_type": "code",
   "execution_count": null,
   "metadata": {},
   "outputs": [],
   "source": []
  },
  {
   "cell_type": "code",
   "execution_count": null,
   "metadata": {},
   "outputs": [],
   "source": []
  },
  {
   "cell_type": "code",
   "execution_count": null,
   "metadata": {},
   "outputs": [],
   "source": []
  }
 ],
 "metadata": {
  "kernelspec": {
   "display_name": "base",
   "language": "python",
   "name": "python3"
  },
  "language_info": {
   "codemirror_mode": {
    "name": "ipython",
    "version": 3
   },
   "file_extension": ".py",
   "mimetype": "text/x-python",
   "name": "python",
   "nbconvert_exporter": "python",
   "pygments_lexer": "ipython3",
   "version": "3.11.5"
  }
 },
 "nbformat": 4,
 "nbformat_minor": 2
}
